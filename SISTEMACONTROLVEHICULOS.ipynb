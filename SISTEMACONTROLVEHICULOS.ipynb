{
  "nbformat": 4,
  "nbformat_minor": 0,
  "metadata": {
    "colab": {
      "provenance": [],
      "authorship_tag": "ABX9TyNZ+SbVchVRPS4LcQBZvkdi",
      "include_colab_link": true
    },
    "kernelspec": {
      "name": "python3",
      "display_name": "Python 3"
    },
    "language_info": {
      "name": "python"
    }
  },
  "cells": [
    {
      "cell_type": "markdown",
      "metadata": {
        "id": "view-in-github",
        "colab_type": "text"
      },
      "source": [
        "<a href=\"https://colab.research.google.com/github/CarlosCordova2023/SISTEMACONTROLVEHICULOS_M4/blob/main/SISTEMACONTROLVEHICULOS.ipynb\" target=\"_parent\"><img src=\"https://colab.research.google.com/assets/colab-badge.svg\" alt=\"Open In Colab\"/></a>"
      ]
    },
    {
      "cell_type": "code",
      "execution_count": 6,
      "metadata": {
        "colab": {
          "base_uri": "https://localhost:8080/"
        },
        "id": "YUPdQ9Oa0Pbs",
        "outputId": "9b1d7216-63af-49cc-926a-faddcc742b40"
      },
      "outputs": [
        {
          "output_type": "stream",
          "name": "stdout",
          "text": [
            "Cuantos Vehiculos desea insertar: 1\n",
            "\n",
            "Datos del automóvil 1\n",
            "Inserte la marca del automóvil: TOYOTA\n",
            "Inserte el modelo: TOYOTA\n",
            "Inserte el número de ruedas: 4\n",
            "Inserte la velocidad en km/h: 250\n",
            "Inserte el cilindraje en cc: 365\n",
            "\n",
            "Imprimiendo por pantalla los Vehículos:\n",
            "Datos del automóvil 1: Marca TOYOTA, Modelo TOYOTA, 4 ruedas, 250 Km/h, 365 cc\n"
          ]
        }
      ],
      "source": [
        "# Parte 1: Implementación de Clases Básicas\n",
        "\n",
        "class Vehiculo:\n",
        "    def __init__(self, marca, modelo, nro_ruedas):\n",
        "        self.marca = marca\n",
        "        self.modelo = modelo\n",
        "        self.nro_ruedas = nro_ruedas\n",
        "\n",
        "class Automovil(Vehiculo):\n",
        "    def __init__(self, marca, modelo, nro_ruedas, velocidad, cilindrada):\n",
        "        super().__init__(marca, modelo, nro_ruedas)\n",
        "        self.velocidad = velocidad\n",
        "        self.cilindrada = cilindrada\n",
        "\n",
        "    def __str__(self):\n",
        "        return f\"Marca {self.marca}, Modelo {self.modelo}, {self.nro_ruedas} ruedas, {self.velocidad} Km/h, {self.cilindrada} cc\"\n",
        "\n",
        "# Creación de instancias\n",
        "vehiculos = []\n",
        "\n",
        "n = int(input(\"Cuantos Vehiculos desea insertar: \"))\n",
        "\n",
        "for i in range(n):\n",
        "    print(f\"\\nDatos del automóvil {i+1}\")\n",
        "    marca = input(\"Inserte la marca del automóvil: \")\n",
        "    modelo = input(\"Inserte el modelo: \")\n",
        "    nro_ruedas = int(input(\"Inserte el número de ruedas: \"))\n",
        "    velocidad = int(input(\"Inserte la velocidad en km/h: \"))\n",
        "    cilindrada = int(input(\"Inserte el cilindraje en cc: \"))\n",
        "\n",
        "    vehiculo = Automovil(marca, modelo, nro_ruedas, velocidad, cilindrada)\n",
        "    vehiculos.append(vehiculo)\n",
        "\n",
        "print(\"\\nImprimiendo por pantalla los Vehículos:\")\n",
        "for i, vehiculo in enumerate(vehiculos):\n",
        "    print(f\"Datos del automóvil {i+1}: {vehiculo}\")\n"
      ]
    },
    {
      "cell_type": "code",
      "source": [
        "# Parte 2: Extensión de Clases\n",
        "\n",
        "class Particular(Automovil):\n",
        "    def __init__(self, marca, modelo, nro_ruedas, velocidad, cilindrada, nro_puestos):\n",
        "        super().__init__(marca, modelo, nro_ruedas, velocidad, cilindrada)\n",
        "        self.nro_puestos = nro_puestos\n",
        "\n",
        "    def __str__(self):\n",
        "        return super().__str__() + f\" Puestos: {self.nro_puestos}\"\n",
        "\n",
        "class Carga(Automovil):\n",
        "    def __init__(self, marca, modelo, nro_ruedas, velocidad, cilindrada, peso_carga):\n",
        "        super().__init__(marca, modelo, nro_ruedas, velocidad, cilindrada)\n",
        "        self.peso_carga = peso_carga\n",
        "\n",
        "    def __str__(self):\n",
        "        return super().__str__() + f\" Carga: {self.peso_carga} Kg\"\n",
        "\n",
        "class Bicicleta(Vehiculo):\n",
        "    def __init__(self, marca, modelo, nro_ruedas, tipo):\n",
        "        super().__init__(marca, modelo, nro_ruedas)\n",
        "        self.tipo = tipo\n",
        "\n",
        "    def __str__(self):\n",
        "        return f\"Marca {self.marca}, Modelo {self.modelo}, {self.nro_ruedas} ruedas, Tipo: {self.tipo}\"\n",
        "\n",
        "class Motocicleta(Bicicleta):\n",
        "    def __init__(self, marca, modelo, nro_ruedas, tipo, motor, cuadro, nro_radios):\n",
        "        super().__init__(marca, modelo, nro_ruedas, tipo)\n",
        "        self.motor = motor\n",
        "        self.cuadro = cuadro\n",
        "        self.nro_radios = nro_radios\n",
        "\n",
        "    def __str__(self):\n",
        "        return super().__str__() + f\" Motor: {self.motor}, Cuadro: {self.cuadro}, Nro Radios: {self.nro_radios}\"\n",
        "\n",
        "# Creación de instancias\n",
        "particular = Particular(\"Ford\", \"Fiesta\", 4, \"180\", \"500\", 5)\n",
        "carga = Carga(\"Daft Trucks\", \"G 38\", 10, 120, \"1000\", \"20000\")\n",
        "bicicleta = Bicicleta(\"Shimano\", \"MT Ranger\", 2, \"Carrera\")\n",
        "motocicleta = Motocicleta(\"BMW\", \"F800s\", 2, \"Deportiva\", \"2T\", \"Doble Viga\", 21)\n",
        "\n",
        "vehiculos = [particular, carga, bicicleta, motocicleta]\n",
        "\n",
        "print(\"\\nImprimiendo los Vehículos:\")\n",
        "for vehiculo in vehiculos:\n",
        "    print(vehiculo)\n"
      ],
      "metadata": {
        "colab": {
          "base_uri": "https://localhost:8080/"
        },
        "id": "BXcpM3ArO24Y",
        "outputId": "e96a93ab-2f2c-4474-f15d-adba9058b0aa"
      },
      "execution_count": 7,
      "outputs": [
        {
          "output_type": "stream",
          "name": "stdout",
          "text": [
            "\n",
            "Imprimiendo los Vehículos:\n",
            "Marca Ford, Modelo Fiesta, 4 ruedas, 180 Km/h, 500 cc Puestos: 5\n",
            "Marca Daft Trucks, Modelo G 38, 10 ruedas, 120 Km/h, 1000 cc Carga: 20000 Kg\n",
            "Marca Shimano, Modelo MT Ranger, 2 ruedas, Tipo: Carrera\n",
            "Marca BMW, Modelo F800s, 2 ruedas, Tipo: Deportiva Motor: 2T, Cuadro: Doble Viga, Nro Radios: 21\n"
          ]
        }
      ]
    },
    {
      "cell_type": "code",
      "source": [
        "import csv\n",
        "\n",
        "class VehiculoCSV:\n",
        "    def guardar_datos_csv(self, nombre_archivo, vehiculos):\n",
        "        with open(nombre_archivo, mode='w', newline='') as archivo:\n",
        "            archivo_csv = csv.writer(archivo)\n",
        "            for vehiculo in vehiculos:\n",
        "                archivo_csv.writerow([vehiculo.__class__, vehiculo.__dict__])\n",
        "\n",
        "    def leer_datos_csv(self, nombre_archivo):\n",
        "        vehiculos = []\n",
        "        with open(nombre_archivo, mode='r') as archivo:\n",
        "            archivo_csv = csv.reader(archivo)\n",
        "            for vehiculo in archivo_csv:\n",
        "                vehiculos.append(vehiculo)\n",
        "        return vehiculos\n",
        "\n",
        "# Creación de objetos y guardado en CSV\n",
        "vehiculo_csv = VehiculoCSV()\n",
        "vehiculo_csv.guardar_datos_csv('vehiculos.csv', vehiculos)\n",
        "\n",
        "# Lectura de objetos desde el archivo CSV\n",
        "vehiculos_leidos = vehiculo_csv.leer_datos_csv('vehiculos.csv')\n",
        "\n",
        "print(\"\\nLista de Vehículos Leídos del CSV:\")\n",
        "for vehiculo in vehiculos_leidos:\n",
        "    print(vehiculo)\n"
      ],
      "metadata": {
        "colab": {
          "base_uri": "https://localhost:8080/"
        },
        "id": "NmtgrjpkrHjA",
        "outputId": "1f49f0f0-3744-4b88-882e-1e4580a192aa"
      },
      "execution_count": 8,
      "outputs": [
        {
          "output_type": "stream",
          "name": "stdout",
          "text": [
            "\n",
            "Lista de Vehículos Leídos del CSV:\n",
            "[\"<class '__main__.Particular'>\", \"{'marca': 'Ford', 'modelo': 'Fiesta', 'nro_ruedas': 4, 'velocidad': '180', 'cilindrada': '500', 'nro_puestos': 5}\"]\n",
            "[\"<class '__main__.Carga'>\", \"{'marca': 'Daft Trucks', 'modelo': 'G 38', 'nro_ruedas': 10, 'velocidad': 120, 'cilindrada': '1000', 'peso_carga': '20000'}\"]\n",
            "[\"<class '__main__.Bicicleta'>\", \"{'marca': 'Shimano', 'modelo': 'MT Ranger', 'nro_ruedas': 2, 'tipo': 'Carrera'}\"]\n",
            "[\"<class '__main__.Motocicleta'>\", \"{'marca': 'BMW', 'modelo': 'F800s', 'nro_ruedas': 2, 'tipo': 'Deportiva', 'motor': '2T', 'cuadro': 'Doble Viga', 'nro_radios': 21}\"]\n"
          ]
        }
      ]
    }
  ]
}